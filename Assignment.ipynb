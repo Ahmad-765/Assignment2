{
 "cells": [
  {
   "cell_type": "code",
   "execution_count": 3,
   "metadata": {},
   "outputs": [
    {
     "name": "stdout",
     "output_type": "stream",
     "text": [
      "the area f a circle is\n",
      "78.5\n"
     ]
    }
   ],
   "source": [
    "print(\"the area f a circle is\")\n",
    "pi=3.14\n",
    "r=5\n",
    "area=3.14*5**2\n",
    "print(area)"
   ]
  },
  {
   "cell_type": "code",
   "execution_count": 13,
   "metadata": {},
   "outputs": [
    {
     "name": "stdout",
     "output_type": "stream",
     "text": [
      "['faisalabad', 'Islamabad', 'Karachi', 'Lahore']\n",
      "['93.4', '95', '98.7', '87.4', '83.02']\n",
      "['93.4', '95', '98.7', '87.4', '83.02']\n"
     ]
    }
   ],
   "source": [
    "list_of_cities=[\"faisalabad\",\"Islamabad\",\"Karachi\",\"Lahore\"]\n",
    "listOfresults=[\"93.4\", \"95\", \"98.7\", \"87.4\", \"83.02\"]\n",
    "listOfScre=[\"45\", \"70\", \"54\", \"90\", \"42\"]\n",
    "print(list_of_cities)\n",
    "print(listOfresults)\n",
    "print(listOfresults)"
   ]
  },
  {
   "cell_type": "code",
   "execution_count": null,
   "metadata": {},
   "outputs": [],
   "source": []
  },
  {
   "cell_type": "code",
   "execution_count": null,
   "metadata": {},
   "outputs": [],
   "source": []
  }
 ],
 "metadata": {
  "kernelspec": {
   "display_name": "Python 3",
   "language": "python",
   "name": "python3"
  },
  "language_info": {
   "codemirror_mode": {
    "name": "ipython",
    "version": 3
   },
   "file_extension": ".py",
   "mimetype": "text/x-python",
   "name": "python",
   "nbconvert_exporter": "python",
   "pygments_lexer": "ipython3",
   "version": "3.7.4"
  }
 },
 "nbformat": 4,
 "nbformat_minor": 2
}
